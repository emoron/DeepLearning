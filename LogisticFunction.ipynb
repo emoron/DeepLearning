{
 "cells": [
  {
   "cell_type": "markdown",
   "metadata": {},
   "source": [
    "[Tutorial](http://deeplearning.net/software/theano/tutorial/examples.html) on the logistic function\n",
    "\n",
    "## The Logistic Function"
   ]
  },
  {
   "cell_type": "code",
   "execution_count": 1,
   "metadata": {
    "collapsed": false
   },
   "outputs": [
    {
     "data": {
      "application/json": {
       "Software versions": [
        {
         "module": "Python",
         "version": "2.7.6 64bit [GCC 4.8.2]"
        },
        {
         "module": "IPython",
         "version": "4.0.1"
        },
        {
         "module": "OS",
         "version": "Linux 4.1.13 boot2docker x86_64 with Ubuntu 14.04 trusty"
        },
        {
         "module": "theano",
         "version": "0.7.0.dev-30cc6380863b08a3a90ecbe083ddfb629a56161d"
        },
        {
         "module": "numpy",
         "version": "1.8.2"
        }
       ]
      },
      "text/html": [
       "<table><tr><th>Software</th><th>Version</th></tr><tr><td>Python</td><td>2.7.6 64bit [GCC 4.8.2]</td></tr><tr><td>IPython</td><td>4.0.1</td></tr><tr><td>OS</td><td>Linux 4.1.13 boot2docker x86_64 with Ubuntu 14.04 trusty</td></tr><tr><td>theano</td><td>0.7.0.dev-30cc6380863b08a3a90ecbe083ddfb629a56161d</td></tr><tr><td>numpy</td><td>1.8.2</td></tr><tr><td colspan='2'>Tue Dec 08 03:33:04 2015 UTC</td></tr></table>"
      ],
      "text/latex": [
       "\\begin{tabular}{|l|l|}\\hline\n",
       "{\\bf Software} & {\\bf Version} \\\\ \\hline\\hline\n",
       "Python & 2.7.6 64bit [GCC 4.8.2] \\\\ \\hline\n",
       "IPython & 4.0.1 \\\\ \\hline\n",
       "OS & Linux 4.1.13 boot2docker x86\\_64 with Ubuntu 14.04 trusty \\\\ \\hline\n",
       "theano & 0.7.0.dev-30cc6380863b08a3a90ecbe083ddfb629a56161d \\\\ \\hline\n",
       "numpy & 1.8.2 \\\\ \\hline\n",
       "\\hline \\multicolumn{2}{|l|}{Tue Dec 08 03:33:04 2015 UTC} \\\\ \\hline\n",
       "\\end{tabular}\n"
      ],
      "text/plain": [
       "Software versions\n",
       "Python 2.7.6 64bit [GCC 4.8.2]\n",
       "IPython 4.0.1\n",
       "OS Linux 4.1.13 boot2docker x86_64 with Ubuntu 14.04 trusty\n",
       "theano 0.7.0.dev-30cc6380863b08a3a90ecbe083ddfb629a56161d\n",
       "numpy 1.8.2\n",
       "Tue Dec 08 03:33:04 2015 UTC"
      ]
     },
     "execution_count": 1,
     "metadata": {},
     "output_type": "execute_result"
    }
   ],
   "source": [
    "%load_ext version_information\n",
    "%version_information theano, numpy"
   ]
  },
  {
   "cell_type": "markdown",
   "metadata": {},
   "source": [
    "We want to compute the logistic function:\n",
    "\n",
    "$$s(x) = \\frac{1}{1 + e^{-x}}$$\n",
    "\n",
    "We apply the function element-wise on the tensor like so."
   ]
  },
  {
   "cell_type": "code",
   "execution_count": 2,
   "metadata": {
    "collapsed": false
   },
   "outputs": [
    {
     "data": {
      "text/plain": [
       "array([[ 0.5       ,  0.73105858],\n",
       "       [ 0.26894142,  0.11920292]])"
      ]
     },
     "execution_count": 2,
     "metadata": {},
     "output_type": "execute_result"
    }
   ],
   "source": [
    "import theano\n",
    "import theano.tensor as T\n",
    "import numpy as np\n",
    "\n",
    "# Same recipe as last tutorial: \n",
    "x = T.dmatrix(\"x\")                  # Define variables\n",
    "s = 1 / (1 + T.exp(-x))             # Build symbolic expression\n",
    "logistic = theano.function([x], s)  # Compile function\n",
    "\n",
    "my_matrix = np.array([[0, 1], [-1, -2]])\n",
    "logistic(my_matrix)"
   ]
  },
  {
   "cell_type": "markdown",
   "metadata": {},
   "source": [
    "There's another definition of the logistic function, using the hyperbolic tangent. \n",
    "\n",
    "$$s(x) = \\frac{1}{1 + e^{-x}} = \\frac{1 + \\tanh(x / 2)}{2}$$\n",
    "\n",
    "Which we can use to get the same result."
   ]
  },
  {
   "cell_type": "code",
   "execution_count": 3,
   "metadata": {
    "collapsed": false
   },
   "outputs": [
    {
     "data": {
      "text/plain": [
       "array([[ 0.5       ,  0.73105858],\n",
       "       [ 0.26894142,  0.11920292]])"
      ]
     },
     "execution_count": 3,
     "metadata": {},
     "output_type": "execute_result"
    }
   ],
   "source": [
    "s2 =(1 + T.tanh(x / 2)) / 2\n",
    "logistic2 = theano.function([x], s2)\n",
    "logistic2(my_matrix)"
   ]
  },
  {
   "cell_type": "markdown",
   "metadata": {},
   "source": [
    "## Using Shared Variables"
   ]
  }
 ],
 "metadata": {
  "kernelspec": {
   "display_name": "Python 2",
   "language": "python",
   "name": "python2"
  },
  "language_info": {
   "codemirror_mode": {
    "name": "ipython",
    "version": 2
   },
   "file_extension": ".py",
   "mimetype": "text/x-python",
   "name": "python",
   "nbconvert_exporter": "python",
   "pygments_lexer": "ipython2",
   "version": "2.7.6"
  }
 },
 "nbformat": 4,
 "nbformat_minor": 0
}
